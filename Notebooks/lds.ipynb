{
 "cells": [
  {
   "cell_type": "markdown",
   "metadata": {},
   "source": [
    "### Legal Document Summarization"
   ]
  },
  {
   "cell_type": "markdown",
   "metadata": {},
   "source": [
    "Simpler view and Raw execution of the program"
   ]
  },
  {
   "cell_type": "markdown",
   "metadata": {},
   "source": [
    "1. Loads the OpenAI API\n",
    "2. Reads text from a legal document (.txt or .pdf)\n",
    "3. Summarizes the text using ChatGPT\n",
    "4. Displays the summary"
   ]
  },
  {
   "cell_type": "code",
   "execution_count": 76,
   "metadata": {},
   "outputs": [],
   "source": [
    "import openai\n",
    "import os\n",
    "from dotenv import load_dotenv"
   ]
  },
  {
   "cell_type": "code",
   "execution_count": 77,
   "metadata": {},
   "outputs": [],
   "source": [
    "load_dotenv()\n",
    "openai.api_key=os.getenv(\"OPENAI_API_KEY\")"
   ]
  },
  {
   "cell_type": "code",
   "execution_count": 78,
   "metadata": {},
   "outputs": [],
   "source": [
    "import PyPDF2"
   ]
  },
  {
   "cell_type": "code",
   "execution_count": 79,
   "metadata": {},
   "outputs": [],
   "source": [
    "def read_txt_file(file_path):\n",
    "    with open(file_path,'r',encoding='utf-8') as file:\n",
    "        return file.read()\n",
    "    \n",
    "def read_pdf_file(file_path):\n",
    "    text=''\n",
    "    with open(file_path,'rb') as file:\n",
    "        reader = PyPDF2.PdfReader(file)\n",
    "        for page in reader.pages:\n",
    "            text+=page.extract_text() + '\\n'\n",
    "    return text\n",
    "\n",
    "def load_document(file_path):\n",
    "    if file_path.endswith('.txt'):\n",
    "        return read_txt_file(file_path)\n",
    "    elif file_path.endswith('.pdf'):\n",
    "        return read_pdf_file(file_path)\n",
    "    else:\n",
    "        return 'Unsupported file type, use .txt or .pdf'\n",
    "    "
   ]
  },
  {
   "cell_type": "code",
   "execution_count": 80,
   "metadata": {},
   "outputs": [],
   "source": [
    "import google.generativeai as genai\n",
    "\n",
    "def get_gemini_response(prompt, model='gemini-1.5-flash-latest'):\n",
    "    \"\"\"\n",
    "    Get a response from Google Gemini Pro.\n",
    "    \n",
    "    Parameters:\n",
    "    - prompt (str): The input text for the model.\n",
    "    - model (str): The Gemini model variant (default: 'gemini-pro').\n",
    "    \n",
    "    Returns:\n",
    "    - str: The model's response.\n",
    "    \"\"\"\n",
    "    genai.configure(api_key=os.getenv(\"GOOGLE_API_KEY\"))\n",
    "    \n",
    "    try:\n",
    "        model_instance = genai.GenerativeModel(model)\n",
    "        response = model_instance.generate_content(prompt)\n",
    "        return response.text if response and response.text else \"No response received.\"\n",
    "    except Exception as e:\n",
    "        return f\"Error: {str(e)}\"\n",
    "\n",
    "# Example usage\n",
    "# if __name__ == \"__main__\":\n",
    "#     prompt = \"Summarize the following legal document: [Insert text here]\"\n",
    "#     print(get_gemini_response(prompt))\n"
   ]
  },
  {
   "cell_type": "code",
   "execution_count": 81,
   "metadata": {},
   "outputs": [
    {
     "name": "stdout",
     "output_type": "stream",
     "text": [
      "Original Doc   \n",
      "  \n",
      "Resolution on Chandigarh\n",
      "For Prelims:  Resolution on Chandigarh, Punjab Reorganisation Act, 1966, Anandpur Sahib Resolution of\n",
      "1973, Rajiv-Longowal Accord, Union Territories, Article 3 of Indian Constitution.\n",
      "For Mains:  Control of Centre Government over Union Territories, Federalism, Centre-State Relations.\n",
      "Why in News?\n",
      "Recently, the Punjab chief minister moved a resolution in the Assembly, seeking the immediate\n",
      "transfer of Chandigarh to Punjab.\n",
      "The longstanding dispute between Punjab and\n",
      "\n",
      " Summary: \n",
      " This is a well-structured summary of the Chandigarh issue. Here are some suggestions for improvement:\n",
      "\n",
      "**Enhancements and Clarifications:**\n",
      "\n",
      "* **Specificity in the \"Why in News\" section:**  Instead of just mentioning the notification of Central Service Rules, briefly explain *why* this specifically reignited the dispute.  For example,  it could be framed as:  \"The recent notification of Central Service Rules for Chandigarh employees, instead of the Punjab Service Rules, reignited the long-standing dispute as it's perceived by Punjab as a further erosion of its claim to the city.\"\n",
      "\n",
      "* **Clarify the 1970 announcement:** The statement \"the capital project area of Chandigarh should, as a whole, go to Punjab\" needs more context.  Was this a formal agreement, a statement of intent, or something else?  Adding a qualifier would improve accuracy.  For instance: \"In 1970, the Centre *unofficially indicated* that the capital project area of Chandigarh should, as a whole, go to Punjab...\"\n",
      "\n",
      "* **Expand on the Rajiv-Longowal Accord's implications:** The summary mentions the agreement to transfer Chandigarh, but it doesn't discuss the reasons for the failure of this agreement.  Mentioning Longowal's assassination and the subsequent escalation of the Punjab insurgency would provide crucial context.\n",
      "\n",
      "* **Detail different types of UTs:** The description of Union Territories could benefit from more detailed categorization.  Instead of just mentioning \"with or without a legislative assembly,\"  explain the differences in administrative powers and the role of the Lieutenant Governor in each type. For example,  mention the Delhi model as a unique case, highlighting its special status and the differences in powers between the LG and the elected government.\n",
      "\n",
      "* **Add a conclusion:** Summarize the current status of the dispute and the potential implications of Punjab's resolution.\n",
      "\n",
      "* **Strengthen the Mains answer points:**  The Mains points are good, but they could be expanded.  For example, under \"Federalism,\" discuss the implications of the dispute for the balance of power between the Centre and the States.  Under \"Centre-State Relations,\" discuss the historical context of the evolving relationship between the Centre and Punjab, and how the Chandigarh issue reflects broader tensions.\n",
      "\n",
      "* **Incorporate the PYQ answer more seamlessly:** Instead of presenting it as a separate block, integrate the information from the PYQ into the main body of the text, perhaps within the section discussing the administrative history of Chandigarh.\n",
      "\n",
      "\n",
      "**Revised Snippet Example (incorporating some suggestions):**\n",
      "\n",
      "\"...In 1970, the Centre *issued a non-binding statement* indicating that the capital project area of Chandigarh should, as a whole, go to Punjab.  Haryana was given five years to build its own capital and use the existing Chandigarh facilities in the interim. However,  Haryana did not build a new capital, and Chandigarh remained a Union Territory...The Rajiv-Longowal Accord of 1985, while agreeing to transfer Chandigarh to Punjab by January 26, 1986, ultimately failed due to the assassination of Longowal shortly after the agreement, leading to a resurgence of militancy and further complicating the already fraught situation...\"\n",
      "\n",
      "\n",
      "By implementing these suggestions, you can create a more comprehensive and insightful analysis of the Chandigarh issue.  Remember to cite all sources appropriately.\n",
      "\n"
     ]
    }
   ],
   "source": [
    "file_path='E:\\Data Science\\LDS\\\\1668332172.pdf'\n",
    "document_text=load_document(file_path)\n",
    "prompt = f\"Summarize the following legal document: {document_text}\"\n",
    "\n",
    "if document_text.startswith('Unsupported'):\n",
    "    print('document_text')\n",
    "else:\n",
    "    print('Original Doc',document_text[:500])\n",
    "    summary=get_gemini_response(document_text)\n",
    "    print('\\n Summary: \\n',summary)\n"
   ]
  }
 ],
 "metadata": {
  "kernelspec": {
   "display_name": "Python 3",
   "language": "python",
   "name": "python3"
  },
  "language_info": {
   "codemirror_mode": {
    "name": "ipython",
    "version": 3
   },
   "file_extension": ".py",
   "mimetype": "text/x-python",
   "name": "python",
   "nbconvert_exporter": "python",
   "pygments_lexer": "ipython3",
   "version": "3.11.9"
  }
 },
 "nbformat": 4,
 "nbformat_minor": 2
}
